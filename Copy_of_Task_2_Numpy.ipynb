{
  "cells": [
    {
      "cell_type": "markdown",
      "metadata": {
        "id": "view-in-github",
        "colab_type": "text"
      },
      "source": [
        "<a href=\"https://colab.research.google.com/github/pandharkardeep/Compute_tasks_Deep_P/blob/main/Copy_of_Task_2_Numpy.ipynb\" target=\"_parent\"><img src=\"https://colab.research.google.com/assets/colab-badge.svg\" alt=\"Open In Colab\"/></a>"
      ]
    },
    {
      "cell_type": "markdown",
      "metadata": {
        "id": "X7z3U2pxCAvN"
      },
      "source": [
        "#### Import NumPy"
      ]
    },
    {
      "cell_type": "code",
      "execution_count": null,
      "metadata": {
        "collapsed": true,
        "id": "jusgfjcDCAvN"
      },
      "outputs": [],
      "source": [
        "import numpy as np"
      ]
    },
    {
      "cell_type": "markdown",
      "metadata": {
        "id": "5qcAR8--CAvN"
      },
      "source": [
        "#### Create an array of 10 zeros"
      ]
    },
    {
      "cell_type": "code",
      "execution_count": null,
      "metadata": {
        "id": "xmEjfwcGCAvO",
        "outputId": "a5204069-dd1f-401f-fbd5-e3ab01adb4a8",
        "colab": {
          "base_uri": "https://localhost:8080/"
        }
      },
      "outputs": [
        {
          "output_type": "execute_result",
          "data": {
            "text/plain": [
              "array([0., 0., 0., 0., 0., 0., 0., 0., 0., 0.])"
            ]
          },
          "metadata": {},
          "execution_count": 7
        }
      ],
      "source": [
        "a = np.zeros(10)\n",
        "a"
      ]
    },
    {
      "cell_type": "markdown",
      "metadata": {
        "id": "-sJqSut2CAvO"
      },
      "source": [
        "#### Create an array of 10 ones"
      ]
    },
    {
      "cell_type": "code",
      "execution_count": null,
      "metadata": {
        "id": "hecGx7cECAvO",
        "outputId": "8964d625-88f0-4f81-e90c-f983f517c2da",
        "colab": {
          "base_uri": "https://localhost:8080/"
        }
      },
      "outputs": [
        {
          "output_type": "execute_result",
          "data": {
            "text/plain": [
              "array([1., 1., 1., 1., 1., 1., 1., 1., 1., 1.])"
            ]
          },
          "metadata": {},
          "execution_count": 8
        }
      ],
      "source": [
        "b = np.ones(10)\n",
        "b"
      ]
    },
    {
      "cell_type": "markdown",
      "metadata": {
        "id": "ARYEHlU5CAvO"
      },
      "source": [
        "#### Create an array of 10 fives"
      ]
    },
    {
      "cell_type": "code",
      "execution_count": null,
      "metadata": {
        "id": "y-1rWnr7CAvP",
        "outputId": "b7243095-8c9c-4d20-fb7a-fb7f0ab6f02c",
        "colab": {
          "base_uri": "https://localhost:8080/"
        }
      },
      "outputs": [
        {
          "output_type": "execute_result",
          "data": {
            "text/plain": [
              "array([5., 5., 5., 5., 5., 5., 5., 5., 5., 5.])"
            ]
          },
          "metadata": {},
          "execution_count": 9
        }
      ],
      "source": [
        "c = np.ones(10)*5\n",
        "c"
      ]
    },
    {
      "cell_type": "markdown",
      "metadata": {
        "id": "7IROlwxJCAvP"
      },
      "source": [
        "#### Create an array of the integers from 10 to 50 -!del!-"
      ]
    },
    {
      "cell_type": "code",
      "execution_count": null,
      "metadata": {
        "id": "UFwQhJT8CAvP",
        "outputId": "4195d77c-ec39-4d3e-c4f8-9db4cba0ca67",
        "colab": {
          "base_uri": "https://localhost:8080/"
        }
      },
      "outputs": [
        {
          "output_type": "execute_result",
          "data": {
            "text/plain": [
              "array([10, 11, 12, 13, 14, 15, 16, 17, 18, 19, 20, 21, 22, 23, 24, 25, 26,\n",
              "       27, 28, 29, 30, 31, 32, 33, 34, 35, 36, 37, 38, 39, 40, 41, 42, 43,\n",
              "       44, 45, 46, 47, 48, 49, 50])"
            ]
          },
          "metadata": {},
          "execution_count": 12
        }
      ],
      "source": [
        "d = np.arange(10,51)\n",
        "d"
      ]
    },
    {
      "cell_type": "markdown",
      "metadata": {
        "id": "wxoKdt6aCAvP"
      },
      "source": [
        "#### Create an array of all the even integers from 10 to 50  -!del!-"
      ]
    },
    {
      "cell_type": "code",
      "execution_count": null,
      "metadata": {
        "id": "7Ix-9XyZCAvP",
        "outputId": "6ccfb402-890d-4432-fab9-b40f8cbe6aaf",
        "colab": {
          "base_uri": "https://localhost:8080/"
        }
      },
      "outputs": [
        {
          "output_type": "execute_result",
          "data": {
            "text/plain": [
              "array([10, 12, 14, 16, 18, 20, 22, 24, 26, 28, 30, 32, 34, 36, 38, 40, 42,\n",
              "       44, 46, 48, 50])"
            ]
          },
          "metadata": {},
          "execution_count": 14
        }
      ],
      "source": [
        "e = np.arange(10,51,2)\n",
        "e"
      ]
    },
    {
      "cell_type": "markdown",
      "metadata": {
        "id": "0jPx7PpWCAvP"
      },
      "source": [
        "#### Create a 3x3 matrix with values ranging from 0 to 8"
      ]
    },
    {
      "cell_type": "code",
      "execution_count": null,
      "metadata": {
        "id": "vLtfhOdwCAvP",
        "outputId": "ffa0082a-73dd-437d-bf73-a002576bf773",
        "colab": {
          "base_uri": "https://localhost:8080/"
        }
      },
      "outputs": [
        {
          "output_type": "execute_result",
          "data": {
            "text/plain": [
              "array([[0, 1, 2],\n",
              "       [3, 4, 5],\n",
              "       [6, 7, 8]])"
            ]
          },
          "metadata": {},
          "execution_count": 16
        }
      ],
      "source": [
        "f = np.arange(0,9).reshape(3,3)\n",
        "f"
      ]
    },
    {
      "cell_type": "markdown",
      "metadata": {
        "id": "JcO95k-XCAvQ"
      },
      "source": [
        "#### Create a 3x3 identity matrix"
      ]
    },
    {
      "cell_type": "code",
      "execution_count": null,
      "metadata": {
        "id": "JPVEIdl3CAvQ",
        "outputId": "6fc58345-13c8-4b18-e5cf-218564763ba5",
        "colab": {
          "base_uri": "https://localhost:8080/"
        }
      },
      "outputs": [
        {
          "output_type": "execute_result",
          "data": {
            "text/plain": [
              "array([[1., 0., 0.],\n",
              "       [0., 1., 0.],\n",
              "       [0., 0., 1.]])"
            ]
          },
          "metadata": {},
          "execution_count": 17
        }
      ],
      "source": [
        "g = np.identity(3)\n",
        "g"
      ]
    },
    {
      "cell_type": "markdown",
      "metadata": {
        "id": "Sn7Hj9KyCAvQ"
      },
      "source": [
        "#### Use NumPy to generate a random number between 0 and 1  -!del!-"
      ]
    },
    {
      "cell_type": "code",
      "execution_count": null,
      "metadata": {
        "id": "jjB53PpTCAvQ",
        "outputId": "92c452a3-d7e1-448d-91c2-2ae9fe562f7b",
        "colab": {
          "base_uri": "https://localhost:8080/"
        }
      },
      "outputs": [
        {
          "output_type": "execute_result",
          "data": {
            "text/plain": [
              "0.8481702361445528"
            ]
          },
          "metadata": {},
          "execution_count": 25
        }
      ],
      "source": [
        "h = np.random.random()\n",
        "h"
      ]
    },
    {
      "cell_type": "markdown",
      "metadata": {
        "id": "xAn14oziCAvQ"
      },
      "source": [
        "#### Use NumPy to generate an array of 25 random numbers sampled from a standard normal distribution"
      ]
    },
    {
      "cell_type": "code",
      "execution_count": null,
      "metadata": {
        "id": "MIeS99CiCAvQ",
        "outputId": "8fb93e57-9113-46fc-f0e8-a9097ba619e3",
        "colab": {
          "base_uri": "https://localhost:8080/"
        }
      },
      "outputs": [
        {
          "output_type": "execute_result",
          "data": {
            "text/plain": [
              "array([-0.0126338 , -1.15449789,  0.62583985,  0.92710907,  0.73090538,\n",
              "        0.79204099,  1.60717114,  0.16494439, -0.3142027 , -1.90467371,\n",
              "        0.90722857, -0.10025576, -0.02510202,  0.38621642, -1.43813129,\n",
              "       -0.39314459, -0.25384558,  1.41342252,  0.06038357, -0.47786067,\n",
              "        0.89257162,  0.06858729, -0.83809832,  0.5587252 , -0.12368786])"
            ]
          },
          "metadata": {},
          "execution_count": 26
        }
      ],
      "source": [
        "i = np.random.randn(25)\n",
        "i"
      ]
    },
    {
      "cell_type": "markdown",
      "metadata": {
        "id": "LbRgd6OyCAvQ"
      },
      "source": [
        "#### Create the following matrix: -!del!-"
      ]
    },
    {
      "cell_type": "code",
      "execution_count": null,
      "metadata": {
        "id": "AENeDra9CAvR"
      },
      "outputs": [],
      "source": []
    },
    {
      "cell_type": "markdown",
      "metadata": {
        "id": "QBZWHYOFCAvR"
      },
      "source": [
        "#### Create an array of 20 linearly spaced points between 0 and 1:"
      ]
    },
    {
      "cell_type": "code",
      "execution_count": null,
      "metadata": {
        "id": "3ra8KFjgCAvR",
        "outputId": "1e2969ab-a5c4-4667-ba59-481828b730ab",
        "colab": {
          "base_uri": "https://localhost:8080/"
        }
      },
      "outputs": [
        {
          "output_type": "execute_result",
          "data": {
            "text/plain": [
              "array([0.        , 0.05263158, 0.10526316, 0.15789474, 0.21052632,\n",
              "       0.26315789, 0.31578947, 0.36842105, 0.42105263, 0.47368421,\n",
              "       0.52631579, 0.57894737, 0.63157895, 0.68421053, 0.73684211,\n",
              "       0.78947368, 0.84210526, 0.89473684, 0.94736842, 1.        ])"
            ]
          },
          "metadata": {},
          "execution_count": 28
        }
      ],
      "source": [
        "j = np.linspace(0,1,20)\n",
        "j"
      ]
    },
    {
      "cell_type": "markdown",
      "metadata": {
        "id": "WDFRH7mRCAvR"
      },
      "source": [
        "## Numpy Indexing and Selection\n",
        "\n",
        "Now you will be given a few matrices, and be asked to replicate the resulting matrix outputs:"
      ]
    },
    {
      "cell_type": "code",
      "execution_count": null,
      "metadata": {
        "id": "B_2McpqmCAvR",
        "outputId": "c9c6ac01-8537-42b1-e3ee-11c920758437",
        "colab": {
          "base_uri": "https://localhost:8080/"
        }
      },
      "outputs": [
        {
          "output_type": "execute_result",
          "data": {
            "text/plain": [
              "array([[ 1,  2,  3,  4,  5],\n",
              "       [ 6,  7,  8,  9, 10],\n",
              "       [11, 12, 13, 14, 15],\n",
              "       [16, 17, 18, 19, 20],\n",
              "       [21, 22, 23, 24, 25]])"
            ]
          },
          "metadata": {},
          "execution_count": 30
        }
      ],
      "source": [
        "mat = np.arange(1,26).reshape(5,5)\n",
        "mat"
      ]
    },
    {
      "cell_type": "code",
      "execution_count": null,
      "metadata": {
        "collapsed": true,
        "id": "oxyloFWDCAvR",
        "outputId": "317d678b-dc70-4019-e041-7f3cb54fd9e1",
        "colab": {
          "base_uri": "https://localhost:8080/"
        }
      },
      "outputs": [
        {
          "output_type": "execute_result",
          "data": {
            "text/plain": [
              "array([[12, 13, 14, 15],\n",
              "       [17, 18, 19, 20],\n",
              "       [22, 23, 24, 25]])"
            ]
          },
          "metadata": {},
          "execution_count": 34
        }
      ],
      "source": [
        "submat = mat[2:,1:]\n",
        "submat"
      ]
    },
    {
      "cell_type": "code",
      "execution_count": null,
      "metadata": {
        "id": "V_GnVZsBCAvR",
        "outputId": "e3e74409-39eb-4d6e-d72a-b5c8bea004e4"
      },
      "outputs": [
        {
          "data": {
            "text/plain": [
              "array([[12, 13, 14, 15],\n",
              "       [17, 18, 19, 20],\n",
              "       [22, 23, 24, 25]])"
            ]
          },
          "execution_count": 40,
          "metadata": {},
          "output_type": "execute_result"
        }
      ],
      "source": []
    },
    {
      "cell_type": "code",
      "execution_count": null,
      "metadata": {
        "collapsed": true,
        "id": "OE0SKA7bCAvS",
        "outputId": "811a2164-fa03-4d21-f597-225af960a851",
        "colab": {
          "base_uri": "https://localhost:8080/"
        }
      },
      "outputs": [
        {
          "output_type": "execute_result",
          "data": {
            "text/plain": [
              "20"
            ]
          },
          "metadata": {},
          "execution_count": 38
        }
      ],
      "source": [
        "num = mat[-2,-1]\n",
        "num"
      ]
    },
    {
      "cell_type": "code",
      "execution_count": null,
      "metadata": {
        "id": "M9CB9jd2CAvS",
        "outputId": "6cc5b128-1eed-47c7-a1f7-d494208e3920"
      },
      "outputs": [
        {
          "data": {
            "text/plain": [
              "20"
            ]
          },
          "execution_count": 41,
          "metadata": {},
          "output_type": "execute_result"
        }
      ],
      "source": []
    },
    {
      "cell_type": "code",
      "execution_count": null,
      "metadata": {
        "collapsed": true,
        "id": "5qPTLISjCAvS",
        "outputId": "d3f39854-6866-4435-ef3a-b388f3d3484e",
        "colab": {
          "base_uri": "https://localhost:8080/"
        }
      },
      "outputs": [
        {
          "output_type": "execute_result",
          "data": {
            "text/plain": [
              "array([[ 2],\n",
              "       [ 7],\n",
              "       [12]])"
            ]
          },
          "metadata": {},
          "execution_count": 46
        }
      ],
      "source": [
        "submat2 = mat[:3,1].transpose()\n",
        "submat2.reshape(3,1)"
      ]
    },
    {
      "cell_type": "code",
      "execution_count": null,
      "metadata": {
        "id": "6wT06ZgHCAvS",
        "outputId": "4dcc638f-7f92-4c4b-880a-bd30fede9150"
      },
      "outputs": [
        {
          "data": {
            "text/plain": [
              "array([[ 2],\n",
              "       [ 7],\n",
              "       [12]])"
            ]
          },
          "execution_count": 42,
          "metadata": {},
          "output_type": "execute_result"
        }
      ],
      "source": []
    },
    {
      "cell_type": "code",
      "execution_count": null,
      "metadata": {
        "collapsed": true,
        "id": "rQr3hBL6CAvS",
        "outputId": "beaa890f-d714-4705-ac8a-7635f8b4ff0a",
        "colab": {
          "base_uri": "https://localhost:8080/"
        }
      },
      "outputs": [
        {
          "output_type": "execute_result",
          "data": {
            "text/plain": [
              "array([21, 22, 23, 24, 25])"
            ]
          },
          "metadata": {},
          "execution_count": 48
        }
      ],
      "source": [
        "submat3 = mat[-1,:]\n",
        "submat3"
      ]
    },
    {
      "cell_type": "code",
      "execution_count": null,
      "metadata": {
        "id": "C1VdxOrTCAvS",
        "outputId": "2356b88f-4fa9-467a-b53e-8b8c2670d5ce"
      },
      "outputs": [
        {
          "data": {
            "text/plain": [
              "array([21, 22, 23, 24, 25])"
            ]
          },
          "execution_count": 46,
          "metadata": {},
          "output_type": "execute_result"
        }
      ],
      "source": []
    },
    {
      "cell_type": "code",
      "execution_count": null,
      "metadata": {
        "collapsed": true,
        "id": "ZRQgDH79CAvS",
        "outputId": "e4c5b92f-2e11-42dc-f744-51cdc623346e",
        "colab": {
          "base_uri": "https://localhost:8080/"
        }
      },
      "outputs": [
        {
          "output_type": "execute_result",
          "data": {
            "text/plain": [
              "array([[16, 17, 18, 19, 20]])"
            ]
          },
          "metadata": {},
          "execution_count": 49
        }
      ],
      "source": [
        "submat4 = mat[-2:-1,:]\n",
        "submat4"
      ]
    },
    {
      "cell_type": "code",
      "execution_count": null,
      "metadata": {
        "id": "0fhU2bu7CAvT",
        "outputId": "39880f20-33a0-4557-fdb7-1973171c10e9"
      },
      "outputs": [
        {
          "data": {
            "text/plain": [
              "array([[16, 17, 18, 19, 20],\n",
              "       [21, 22, 23, 24, 25]])"
            ]
          },
          "execution_count": 49,
          "metadata": {},
          "output_type": "execute_result"
        }
      ],
      "source": []
    },
    {
      "cell_type": "markdown",
      "metadata": {
        "id": "Ih6-cRw_CAvT"
      },
      "source": [
        "### Now do the following"
      ]
    },
    {
      "cell_type": "markdown",
      "metadata": {
        "id": "Mi-WfNJOCAvT"
      },
      "source": [
        "#### Get the sum of all the values in mat"
      ]
    },
    {
      "cell_type": "code",
      "execution_count": null,
      "metadata": {
        "id": "T6SjcnWPCAvT",
        "outputId": "bd0555e8-fe66-464b-a73c-882f614d302d",
        "colab": {
          "base_uri": "https://localhost:8080/"
        }
      },
      "outputs": [
        {
          "output_type": "execute_result",
          "data": {
            "text/plain": [
              "325"
            ]
          },
          "metadata": {},
          "execution_count": 50
        }
      ],
      "source": [
        "np.sum(mat)"
      ]
    },
    {
      "cell_type": "markdown",
      "metadata": {
        "id": "PwZD2RewCAvT"
      },
      "source": [
        "#### Get the standard deviation of the values in mat"
      ]
    },
    {
      "cell_type": "code",
      "execution_count": null,
      "metadata": {
        "id": "MxnOj36BCAvT",
        "outputId": "61bc2dcf-4c4d-445d-dc8f-f225ef814be2",
        "colab": {
          "base_uri": "https://localhost:8080/"
        }
      },
      "outputs": [
        {
          "output_type": "execute_result",
          "data": {
            "text/plain": [
              "7.211102550927978"
            ]
          },
          "metadata": {},
          "execution_count": 51
        }
      ],
      "source": [
        "np.std(mat)"
      ]
    },
    {
      "cell_type": "markdown",
      "metadata": {
        "id": "zO38BgXWCAvU"
      },
      "source": [
        "#### Get the sum of all the columns in mat"
      ]
    },
    {
      "cell_type": "code",
      "execution_count": null,
      "metadata": {
        "id": "BBJ0PLt5CAvU",
        "outputId": "6fa0ab13-e0da-47a8-9816-66d904abb5d4",
        "colab": {
          "base_uri": "https://localhost:8080/"
        }
      },
      "outputs": [
        {
          "output_type": "execute_result",
          "data": {
            "text/plain": [
              "array([ 15,  40,  65,  90, 115])"
            ]
          },
          "metadata": {},
          "execution_count": 54
        }
      ],
      "source": [
        "mat.sum(axis = 1)"
      ]
    },
    {
      "cell_type": "markdown",
      "source": [
        "#### Multiply two matrices using NumPy.\n",
        "\n",
        "A = [[1, 2], [2, 3]]\n",
        "\n",
        "B = [[4, 5], [6, 7]]\n",
        "\n",
        "So, A.B = [[1*4 + 2*6, 2*4 + 3*6], [1*5 + 2*7, 2*5 + 3*7]\n",
        "\n",
        "The computed answer will be: [[16, 26], [19, 31]]\n"
      ],
      "metadata": {
        "id": "AmoYw9QoljOW"
      }
    },
    {
      "cell_type": "code",
      "source": [
        "A = [[1,2],[2,3]]\n",
        "B = [[4,5],[6,7]]\n",
        "np.multiply(A,B)"
      ],
      "metadata": {
        "id": "TlwnfZgYlzsQ",
        "outputId": "4f72ddc8-5f24-4df1-ff2d-bd10cbea5a57",
        "colab": {
          "base_uri": "https://localhost:8080/"
        }
      },
      "execution_count": null,
      "outputs": [
        {
          "output_type": "execute_result",
          "data": {
            "text/plain": [
              "array([[ 4, 10],\n",
              "       [12, 21]])"
            ]
          },
          "metadata": {},
          "execution_count": 55
        }
      ]
    },
    {
      "cell_type": "markdown",
      "source": [
        "####Replace NaN values with average of that column\n",
        "\n",
        "Initial array :  \n",
        "\n",
        "[[ 1.3  2.5  3.6  nan]\n",
        " [ 2.6  3.3  nan  5.5]\n",
        " [ 2.1  3.2  5.4  6.5]]\n"
      ],
      "metadata": {
        "id": "0bNmuR33mE10"
      }
    },
    {
      "cell_type": "code",
      "source": [
        "A= [[ 1.3, 2.5, 3.6, np.nan], [ 2.6, 3.3, np.nan, 5.5], [ 2.1, 3.2, 5.4, 6.5]]\n",
        "res = np.where(np.isnan(A), np.ma.array(A,\n",
        "               mask = np.isnan(A)).mean(axis = 0),A)\n",
        "res"
      ],
      "metadata": {
        "id": "2lXzmm6EmRwN",
        "outputId": "ccfd269d-03ea-4ea0-eb6b-daaa9d2ab5d0",
        "colab": {
          "base_uri": "https://localhost:8080/"
        }
      },
      "execution_count": null,
      "outputs": [
        {
          "output_type": "execute_result",
          "data": {
            "text/plain": [
              "array([[1.3, 2.5, 3.6, 6. ],\n",
              "       [2.6, 3.3, 4.5, 5.5],\n",
              "       [2.1, 3.2, 5.4, 6.5]])"
            ]
          },
          "metadata": {},
          "execution_count": 60
        }
      ]
    },
    {
      "cell_type": "markdown",
      "metadata": {
        "collapsed": true,
        "id": "GiRsFFT_CAvU"
      },
      "source": [
        "# You're done!"
      ]
    }
  ],
  "metadata": {
    "kernelspec": {
      "display_name": "Python 3",
      "language": "python",
      "name": "python3"
    },
    "language_info": {
      "codemirror_mode": {
        "name": "ipython",
        "version": 3
      },
      "file_extension": ".py",
      "mimetype": "text/x-python",
      "name": "python",
      "nbconvert_exporter": "python",
      "pygments_lexer": "ipython3",
      "version": "3.5.1"
    },
    "colab": {
      "provenance": [],
      "include_colab_link": true
    }
  },
  "nbformat": 4,
  "nbformat_minor": 0
}